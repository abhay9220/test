{
 "cells": [
  {
   "cell_type": "code",
   "execution_count": null,
   "id": "50d2b8b1",
   "metadata": {},
   "outputs": [],
   "source": [
    "### First Practical "
   ]
  },
  {
   "cell_type": "code",
   "execution_count": 27,
   "id": "568c02bd",
   "metadata": {},
   "outputs": [],
   "source": [
    "import numpy as np\n",
    "import pandas as pd\n",
    "import matplotlib.pyplot as plt\n",
    "from sklearn.cluster import KMeans\n",
    "from sklearn.preprocessing import MinMaxScaler\n",
    "import seaborn as sns\n",
    "from sklearn import tree\n"
   ]
  },
  {
   "cell_type": "code",
   "execution_count": 2,
   "id": "56ad94b8",
   "metadata": {},
   "outputs": [],
   "source": [
    "df = pd.read_csv(\"prac_1.csv\")"
   ]
  },
  {
   "cell_type": "code",
   "execution_count": 3,
   "id": "72ebeb6f",
   "metadata": {},
   "outputs": [
    {
     "data": {
      "text/html": [
       "<div>\n",
       "<style scoped>\n",
       "    .dataframe tbody tr th:only-of-type {\n",
       "        vertical-align: middle;\n",
       "    }\n",
       "\n",
       "    .dataframe tbody tr th {\n",
       "        vertical-align: top;\n",
       "    }\n",
       "\n",
       "    .dataframe thead th {\n",
       "        text-align: right;\n",
       "    }\n",
       "</style>\n",
       "<table border=\"1\" class=\"dataframe\">\n",
       "  <thead>\n",
       "    <tr style=\"text-align: right;\">\n",
       "      <th></th>\n",
       "      <th>PassengerId</th>\n",
       "      <th>Survived</th>\n",
       "      <th>Pclass</th>\n",
       "      <th>Name</th>\n",
       "      <th>Sex</th>\n",
       "      <th>Age</th>\n",
       "      <th>SibSp</th>\n",
       "      <th>Parch</th>\n",
       "      <th>Ticket</th>\n",
       "      <th>Fare</th>\n",
       "      <th>Cabin</th>\n",
       "      <th>Embarked</th>\n",
       "    </tr>\n",
       "  </thead>\n",
       "  <tbody>\n",
       "    <tr>\n",
       "      <th>0</th>\n",
       "      <td>1</td>\n",
       "      <td>0</td>\n",
       "      <td>3</td>\n",
       "      <td>Braund, Mr. Owen Harris</td>\n",
       "      <td>male</td>\n",
       "      <td>22.0</td>\n",
       "      <td>1</td>\n",
       "      <td>0</td>\n",
       "      <td>A/5 21171</td>\n",
       "      <td>7.2500</td>\n",
       "      <td>NaN</td>\n",
       "      <td>S</td>\n",
       "    </tr>\n",
       "    <tr>\n",
       "      <th>1</th>\n",
       "      <td>2</td>\n",
       "      <td>1</td>\n",
       "      <td>1</td>\n",
       "      <td>Cumings, Mrs. John Bradley (Florence Briggs Th...</td>\n",
       "      <td>female</td>\n",
       "      <td>38.0</td>\n",
       "      <td>1</td>\n",
       "      <td>0</td>\n",
       "      <td>PC 17599</td>\n",
       "      <td>71.2833</td>\n",
       "      <td>C85</td>\n",
       "      <td>C</td>\n",
       "    </tr>\n",
       "    <tr>\n",
       "      <th>2</th>\n",
       "      <td>3</td>\n",
       "      <td>1</td>\n",
       "      <td>3</td>\n",
       "      <td>Heikkinen, Miss. Laina</td>\n",
       "      <td>female</td>\n",
       "      <td>26.0</td>\n",
       "      <td>0</td>\n",
       "      <td>0</td>\n",
       "      <td>STON/O2. 3101282</td>\n",
       "      <td>7.9250</td>\n",
       "      <td>NaN</td>\n",
       "      <td>S</td>\n",
       "    </tr>\n",
       "    <tr>\n",
       "      <th>3</th>\n",
       "      <td>4</td>\n",
       "      <td>1</td>\n",
       "      <td>1</td>\n",
       "      <td>Futrelle, Mrs. Jacques Heath (Lily May Peel)</td>\n",
       "      <td>female</td>\n",
       "      <td>35.0</td>\n",
       "      <td>1</td>\n",
       "      <td>0</td>\n",
       "      <td>113803</td>\n",
       "      <td>53.1000</td>\n",
       "      <td>C123</td>\n",
       "      <td>S</td>\n",
       "    </tr>\n",
       "    <tr>\n",
       "      <th>4</th>\n",
       "      <td>5</td>\n",
       "      <td>0</td>\n",
       "      <td>3</td>\n",
       "      <td>Allen, Mr. William Henry</td>\n",
       "      <td>male</td>\n",
       "      <td>35.0</td>\n",
       "      <td>0</td>\n",
       "      <td>0</td>\n",
       "      <td>373450</td>\n",
       "      <td>8.0500</td>\n",
       "      <td>NaN</td>\n",
       "      <td>S</td>\n",
       "    </tr>\n",
       "  </tbody>\n",
       "</table>\n",
       "</div>"
      ],
      "text/plain": [
       "   PassengerId  Survived  Pclass  \\\n",
       "0            1         0       3   \n",
       "1            2         1       1   \n",
       "2            3         1       3   \n",
       "3            4         1       1   \n",
       "4            5         0       3   \n",
       "\n",
       "                                                Name     Sex   Age  SibSp  \\\n",
       "0                            Braund, Mr. Owen Harris    male  22.0      1   \n",
       "1  Cumings, Mrs. John Bradley (Florence Briggs Th...  female  38.0      1   \n",
       "2                             Heikkinen, Miss. Laina  female  26.0      0   \n",
       "3       Futrelle, Mrs. Jacques Heath (Lily May Peel)  female  35.0      1   \n",
       "4                           Allen, Mr. William Henry    male  35.0      0   \n",
       "\n",
       "   Parch            Ticket     Fare Cabin Embarked  \n",
       "0      0         A/5 21171   7.2500   NaN        S  \n",
       "1      0          PC 17599  71.2833   C85        C  \n",
       "2      0  STON/O2. 3101282   7.9250   NaN        S  \n",
       "3      0            113803  53.1000  C123        S  \n",
       "4      0            373450   8.0500   NaN        S  "
      ]
     },
     "execution_count": 3,
     "metadata": {},
     "output_type": "execute_result"
    }
   ],
   "source": [
    "df.head()"
   ]
  },
  {
   "cell_type": "code",
   "execution_count": 4,
   "id": "2d453ba1",
   "metadata": {},
   "outputs": [
    {
     "data": {
      "text/plain": [
       "(891, 12)"
      ]
     },
     "execution_count": 4,
     "metadata": {},
     "output_type": "execute_result"
    }
   ],
   "source": [
    "df.shape"
   ]
  },
  {
   "cell_type": "code",
   "execution_count": 5,
   "id": "fc187363",
   "metadata": {},
   "outputs": [
    {
     "data": {
      "text/plain": [
       "PassengerId      int64\n",
       "Survived         int64\n",
       "Pclass           int64\n",
       "Name            object\n",
       "Sex             object\n",
       "Age            float64\n",
       "SibSp            int64\n",
       "Parch            int64\n",
       "Ticket          object\n",
       "Fare           float64\n",
       "Cabin           object\n",
       "Embarked        object\n",
       "dtype: object"
      ]
     },
     "execution_count": 5,
     "metadata": {},
     "output_type": "execute_result"
    }
   ],
   "source": [
    "df.dtypes"
   ]
  },
  {
   "cell_type": "code",
   "execution_count": 7,
   "id": "70058f58",
   "metadata": {},
   "outputs": [
    {
     "data": {
      "text/html": [
       "<div>\n",
       "<style scoped>\n",
       "    .dataframe tbody tr th:only-of-type {\n",
       "        vertical-align: middle;\n",
       "    }\n",
       "\n",
       "    .dataframe tbody tr th {\n",
       "        vertical-align: top;\n",
       "    }\n",
       "\n",
       "    .dataframe thead th {\n",
       "        text-align: right;\n",
       "    }\n",
       "</style>\n",
       "<table border=\"1\" class=\"dataframe\">\n",
       "  <thead>\n",
       "    <tr style=\"text-align: right;\">\n",
       "      <th></th>\n",
       "      <th>PassengerId</th>\n",
       "      <th>Survived</th>\n",
       "      <th>Pclass</th>\n",
       "      <th>Age</th>\n",
       "      <th>SibSp</th>\n",
       "      <th>Parch</th>\n",
       "      <th>Fare</th>\n",
       "    </tr>\n",
       "  </thead>\n",
       "  <tbody>\n",
       "    <tr>\n",
       "      <th>count</th>\n",
       "      <td>891.000000</td>\n",
       "      <td>891.000000</td>\n",
       "      <td>891.000000</td>\n",
       "      <td>714.000000</td>\n",
       "      <td>891.000000</td>\n",
       "      <td>891.000000</td>\n",
       "      <td>891.000000</td>\n",
       "    </tr>\n",
       "    <tr>\n",
       "      <th>mean</th>\n",
       "      <td>446.000000</td>\n",
       "      <td>0.383838</td>\n",
       "      <td>2.308642</td>\n",
       "      <td>29.699118</td>\n",
       "      <td>0.523008</td>\n",
       "      <td>0.381594</td>\n",
       "      <td>32.204208</td>\n",
       "    </tr>\n",
       "    <tr>\n",
       "      <th>std</th>\n",
       "      <td>257.353842</td>\n",
       "      <td>0.486592</td>\n",
       "      <td>0.836071</td>\n",
       "      <td>14.526497</td>\n",
       "      <td>1.102743</td>\n",
       "      <td>0.806057</td>\n",
       "      <td>49.693429</td>\n",
       "    </tr>\n",
       "    <tr>\n",
       "      <th>min</th>\n",
       "      <td>1.000000</td>\n",
       "      <td>0.000000</td>\n",
       "      <td>1.000000</td>\n",
       "      <td>0.420000</td>\n",
       "      <td>0.000000</td>\n",
       "      <td>0.000000</td>\n",
       "      <td>0.000000</td>\n",
       "    </tr>\n",
       "    <tr>\n",
       "      <th>25%</th>\n",
       "      <td>223.500000</td>\n",
       "      <td>0.000000</td>\n",
       "      <td>2.000000</td>\n",
       "      <td>20.125000</td>\n",
       "      <td>0.000000</td>\n",
       "      <td>0.000000</td>\n",
       "      <td>7.910400</td>\n",
       "    </tr>\n",
       "    <tr>\n",
       "      <th>50%</th>\n",
       "      <td>446.000000</td>\n",
       "      <td>0.000000</td>\n",
       "      <td>3.000000</td>\n",
       "      <td>28.000000</td>\n",
       "      <td>0.000000</td>\n",
       "      <td>0.000000</td>\n",
       "      <td>14.454200</td>\n",
       "    </tr>\n",
       "    <tr>\n",
       "      <th>75%</th>\n",
       "      <td>668.500000</td>\n",
       "      <td>1.000000</td>\n",
       "      <td>3.000000</td>\n",
       "      <td>38.000000</td>\n",
       "      <td>1.000000</td>\n",
       "      <td>0.000000</td>\n",
       "      <td>31.000000</td>\n",
       "    </tr>\n",
       "    <tr>\n",
       "      <th>max</th>\n",
       "      <td>891.000000</td>\n",
       "      <td>1.000000</td>\n",
       "      <td>3.000000</td>\n",
       "      <td>80.000000</td>\n",
       "      <td>8.000000</td>\n",
       "      <td>6.000000</td>\n",
       "      <td>512.329200</td>\n",
       "    </tr>\n",
       "  </tbody>\n",
       "</table>\n",
       "</div>"
      ],
      "text/plain": [
       "       PassengerId    Survived      Pclass         Age       SibSp  \\\n",
       "count   891.000000  891.000000  891.000000  714.000000  891.000000   \n",
       "mean    446.000000    0.383838    2.308642   29.699118    0.523008   \n",
       "std     257.353842    0.486592    0.836071   14.526497    1.102743   \n",
       "min       1.000000    0.000000    1.000000    0.420000    0.000000   \n",
       "25%     223.500000    0.000000    2.000000   20.125000    0.000000   \n",
       "50%     446.000000    0.000000    3.000000   28.000000    0.000000   \n",
       "75%     668.500000    1.000000    3.000000   38.000000    1.000000   \n",
       "max     891.000000    1.000000    3.000000   80.000000    8.000000   \n",
       "\n",
       "            Parch        Fare  \n",
       "count  891.000000  891.000000  \n",
       "mean     0.381594   32.204208  \n",
       "std      0.806057   49.693429  \n",
       "min      0.000000    0.000000  \n",
       "25%      0.000000    7.910400  \n",
       "50%      0.000000   14.454200  \n",
       "75%      0.000000   31.000000  \n",
       "max      6.000000  512.329200  "
      ]
     },
     "execution_count": 7,
     "metadata": {},
     "output_type": "execute_result"
    }
   ],
   "source": [
    "df.describe()"
   ]
  },
  {
   "cell_type": "code",
   "execution_count": 8,
   "id": "4555237b",
   "metadata": {},
   "outputs": [
    {
     "data": {
      "text/plain": [
       "PassengerId      0\n",
       "Survived         0\n",
       "Pclass           0\n",
       "Name             0\n",
       "Sex              0\n",
       "Age            177\n",
       "SibSp            0\n",
       "Parch            0\n",
       "Ticket           0\n",
       "Fare             0\n",
       "Cabin          687\n",
       "Embarked         2\n",
       "dtype: int64"
      ]
     },
     "execution_count": 8,
     "metadata": {},
     "output_type": "execute_result"
    }
   ],
   "source": [
    "df.isnull().sum()"
   ]
  },
  {
   "cell_type": "code",
   "execution_count": 9,
   "id": "b800f598",
   "metadata": {},
   "outputs": [],
   "source": [
    "def impute_median(series):\n",
    "    return series.fillna(series.median())"
   ]
  },
  {
   "cell_type": "code",
   "execution_count": 10,
   "id": "b65c60c5",
   "metadata": {},
   "outputs": [],
   "source": [
    "df['Age'] = df['Age'].transform(impute_median)"
   ]
  },
  {
   "cell_type": "code",
   "execution_count": 11,
   "id": "2ef0dc1c",
   "metadata": {},
   "outputs": [
    {
     "data": {
      "text/plain": [
       "PassengerId      0\n",
       "Survived         0\n",
       "Pclass           0\n",
       "Name             0\n",
       "Sex              0\n",
       "Age              0\n",
       "SibSp            0\n",
       "Parch            0\n",
       "Ticket           0\n",
       "Fare             0\n",
       "Cabin          687\n",
       "Embarked         2\n",
       "dtype: int64"
      ]
     },
     "execution_count": 11,
     "metadata": {},
     "output_type": "execute_result"
    }
   ],
   "source": [
    "df.isnull().sum()"
   ]
  },
  {
   "cell_type": "code",
   "execution_count": 12,
   "id": "3fc37291",
   "metadata": {},
   "outputs": [],
   "source": [
    "df['Cabin'].fillna(str(df['Cabin'].mode().values[0]),inplace=True)"
   ]
  },
  {
   "cell_type": "code",
   "execution_count": 13,
   "id": "397d9d1a",
   "metadata": {},
   "outputs": [],
   "source": [
    "df['Embarked'].fillna(str(df['Embarked'].mode().values[0]),inplace=True)"
   ]
  },
  {
   "cell_type": "code",
   "execution_count": 14,
   "id": "cc638c23",
   "metadata": {},
   "outputs": [
    {
     "data": {
      "text/plain": [
       "PassengerId    0\n",
       "Survived       0\n",
       "Pclass         0\n",
       "Name           0\n",
       "Sex            0\n",
       "Age            0\n",
       "SibSp          0\n",
       "Parch          0\n",
       "Ticket         0\n",
       "Fare           0\n",
       "Cabin          0\n",
       "Embarked       0\n",
       "dtype: int64"
      ]
     },
     "execution_count": 14,
     "metadata": {},
     "output_type": "execute_result"
    }
   ],
   "source": [
    "df.isnull().sum()"
   ]
  },
  {
   "cell_type": "code",
   "execution_count": 16,
   "id": "017f8fba",
   "metadata": {},
   "outputs": [],
   "source": [
    "df.drop(['Parch'],axis=1,inplace=True)"
   ]
  },
  {
   "cell_type": "code",
   "execution_count": 17,
   "id": "0e81cd53",
   "metadata": {},
   "outputs": [
    {
     "data": {
      "text/plain": [
       "PassengerId    0\n",
       "Survived       0\n",
       "Pclass         0\n",
       "Name           0\n",
       "Sex            0\n",
       "Age            0\n",
       "SibSp          0\n",
       "Ticket         0\n",
       "Fare           0\n",
       "Cabin          0\n",
       "Embarked       0\n",
       "dtype: int64"
      ]
     },
     "execution_count": 17,
     "metadata": {},
     "output_type": "execute_result"
    }
   ],
   "source": [
    "df.isnull().sum()"
   ]
  },
  {
   "cell_type": "code",
   "execution_count": 18,
   "id": "d1d80d16",
   "metadata": {},
   "outputs": [
    {
     "data": {
      "text/plain": [
       "{'whiskers': [<matplotlib.lines.Line2D at 0x21db37dd0a0>,\n",
       "  <matplotlib.lines.Line2D at 0x21db37dd370>],\n",
       " 'caps': [<matplotlib.lines.Line2D at 0x21db37dd640>,\n",
       "  <matplotlib.lines.Line2D at 0x21db37dd910>],\n",
       " 'boxes': [<matplotlib.lines.Line2D at 0x21db3120d90>],\n",
       " 'medians': [<matplotlib.lines.Line2D at 0x21db37ddbe0>],\n",
       " 'fliers': [<matplotlib.lines.Line2D at 0x21db37ddeb0>],\n",
       " 'means': []}"
      ]
     },
     "execution_count": 18,
     "metadata": {},
     "output_type": "execute_result"
    },
    {
     "data": {
      "image/png": "[encoded data removed]",
      "text/plain": [
       "<Figure size 640x480 with 1 Axes>"
      ]
     },
     "metadata": {},
     "output_type": "display_data"
    }
   ],
   "source": [
    "plt.boxplot(df['Age'])"
   ]
  },
  {
   "cell_type": "code",
   "execution_count": 19,
   "id": "b2b2ab47",
   "metadata": {},
   "outputs": [],
   "source": [
    "Y = df['Age']\n",
    "X = df['Sex']"
   ]
  },
  {
   "cell_type": "code",
   "execution_count": 20,
   "id": "6e95af32",
   "metadata": {},
   "outputs": [
    {
     "data": {
      "text/plain": [
       "<matplotlib.collections.PathCollection at 0x21db3817400>"
      ]
     },
     "execution_count": 20,
     "metadata": {},
     "output_type": "execute_result"
    },
    {
     "data": {
      "image/png": "[encoded data removed]",
      "text/plain": [
       "<Figure size 640x480 with 1 Axes>"
      ]
     },
     "metadata": {},
     "output_type": "display_data"
    }
   ],
   "source": [
    "plt.scatter(X,Y)"
   ]
  },
  {
   "cell_type": "code",
   "execution_count": 22,
   "id": "4542c0d2",
   "metadata": {},
   "outputs": [
    {
     "data": {
      "text/plain": [
       "<BarContainer object of 891 artists>"
      ]
     },
     "execution_count": 22,
     "metadata": {},
     "output_type": "execute_result"
    },
    {
     "data": {
      "image/png": "[encoded data removed]",
      "text/plain": [
       "<Figure size 640x480 with 1 Axes>"
      ]
     },
     "metadata": {},
     "output_type": "display_data"
    }
   ],
   "source": [
    "plt.bar(df['Sex'],df['Age'])"
   ]
  },
  {
   "cell_type": "code",
   "execution_count": 23,
   "id": "d0db034e",
   "metadata": {},
   "outputs": [
    {
     "data": {
      "text/plain": [
       "<AxesSubplot:>"
      ]
     },
     "execution_count": 23,
     "metadata": {},
     "output_type": "execute_result"
    },
    {
     "data": {
      "image/png": "[encoded data removed]",
      "text/plain": [
       "<Figure size 640x480 with 1 Axes>"
      ]
     },
     "metadata": {},
     "output_type": "display_data"
    }
   ],
   "source": [
    "df['Sex'].hist()"
   ]
  },
  {
   "cell_type": "code",
   "execution_count": 28,
   "id": "15d24ad2",
   "metadata": {},
   "outputs": [
    {
     "data": {
      "text/plain": [
       "<AxesSubplot:>"
      ]
     },
     "execution_count": 28,
     "metadata": {},
     "output_type": "execute_result"
    },
    {
     "data": {
      "image/png": "[encoded data removed]",
      "text/plain": [
       "<Figure size 640x480 with 2 Axes>"
      ]
     },
     "metadata": {},
     "output_type": "display_data"
    }
   ],
   "source": [
    "sns.heatmap(df.corr(),cmap='YlGnBu')"
   ]
  },
  {
   "cell_type": "code",
   "execution_count": null,
   "id": "21674bd1",
   "metadata": {},
   "outputs": [],
   "source": [
    "####Second Practical"
   ]
  },
  {
   "cell_type": "code",
   "execution_count": 30,
   "id": "bfb5d3e8",
   "metadata": {},
   "outputs": [],
   "source": [
    "import numpy as np\n",
    "import pandas as pd\n",
    "import matplotlib.pyplot as plt\n",
    "from sklearn.cluster import KMeans\n",
    "from sklearn.preprocessing import StandardScaler"
   ]
  },
  {
   "cell_type": "code",
   "execution_count": 31,
   "id": "37fe3018",
   "metadata": {},
   "outputs": [],
   "source": [
    "df1 = pd.read_csv('driver.csv')"
   ]
  },
  {
   "cell_type": "code",
   "execution_count": 34,
   "id": "8983df66",
   "metadata": {},
   "outputs": [
    {
     "data": {
      "text/html": [
       "<div>\n",
       "<style scoped>\n",
       "    .dataframe tbody tr th:only-of-type {\n",
       "        vertical-align: middle;\n",
       "    }\n",
       "\n",
       "    .dataframe tbody tr th {\n",
       "        vertical-align: top;\n",
       "    }\n",
       "\n",
       "    .dataframe thead th {\n",
       "        text-align: right;\n",
       "    }\n",
       "</style>\n",
       "<table border=\"1\" class=\"dataframe\">\n",
       "  <thead>\n",
       "    <tr style=\"text-align: right;\">\n",
       "      <th></th>\n",
       "      <th>User ID</th>\n",
       "      <th>Gender</th>\n",
       "      <th>Score1</th>\n",
       "      <th>Score2</th>\n",
       "      <th>Category</th>\n",
       "    </tr>\n",
       "  </thead>\n",
       "  <tbody>\n",
       "    <tr>\n",
       "      <th>0</th>\n",
       "      <td>15624510</td>\n",
       "      <td>Male</td>\n",
       "      <td>84</td>\n",
       "      <td>83</td>\n",
       "      <td>1</td>\n",
       "    </tr>\n",
       "    <tr>\n",
       "      <th>1</th>\n",
       "      <td>15810944</td>\n",
       "      <td>Male</td>\n",
       "      <td>76</td>\n",
       "      <td>77</td>\n",
       "      <td>1</td>\n",
       "    </tr>\n",
       "    <tr>\n",
       "      <th>2</th>\n",
       "      <td>15668575</td>\n",
       "      <td>Female</td>\n",
       "      <td>83</td>\n",
       "      <td>84</td>\n",
       "      <td>1</td>\n",
       "    </tr>\n",
       "    <tr>\n",
       "      <th>3</th>\n",
       "      <td>15603246</td>\n",
       "      <td>Female</td>\n",
       "      <td>77</td>\n",
       "      <td>76</td>\n",
       "      <td>1</td>\n",
       "    </tr>\n",
       "    <tr>\n",
       "      <th>4</th>\n",
       "      <td>15804002</td>\n",
       "      <td>Male</td>\n",
       "      <td>82</td>\n",
       "      <td>81</td>\n",
       "      <td>1</td>\n",
       "    </tr>\n",
       "  </tbody>\n",
       "</table>\n",
       "</div>"
      ],
      "text/plain": [
       "    User ID  Gender  Score1  Score2  Category\n",
       "0  15624510    Male      84      83         1\n",
       "1  15810944    Male      76      77         1\n",
       "2  15668575  Female      83      84         1\n",
       "3  15603246  Female      77      76         1\n",
       "4  15804002    Male      82      81         1"
      ]
     },
     "execution_count": 34,
     "metadata": {},
     "output_type": "execute_result"
    }
   ],
   "source": [
    "df1.head()"
   ]
  },
  {
   "cell_type": "code",
   "execution_count": 35,
   "id": "b2e32c0b",
   "metadata": {},
   "outputs": [
    {
     "data": {
      "text/plain": [
       "User ID      int64\n",
       "Gender      object\n",
       "Score1       int64\n",
       "Score2       int64\n",
       "Category     int64\n",
       "dtype: object"
      ]
     },
     "execution_count": 35,
     "metadata": {},
     "output_type": "execute_result"
    }
   ],
   "source": [
    "df1.dtypes"
   ]
  },
  {
   "cell_type": "code",
   "execution_count": 36,
   "id": "6b1d7fe4",
   "metadata": {},
   "outputs": [
    {
     "data": {
      "text/plain": [
       "(891, 11)"
      ]
     },
     "execution_count": 36,
     "metadata": {},
     "output_type": "execute_result"
    }
   ],
   "source": [
    "df.shape"
   ]
  },
  {
   "cell_type": "code",
   "execution_count": 37,
   "id": "2f160973",
   "metadata": {},
   "outputs": [],
   "source": [
    "X = df1.iloc[:,[2,3]].values"
   ]
  },
  {
   "cell_type": "code",
   "execution_count": 38,
   "id": "4028306d",
   "metadata": {},
   "outputs": [
    {
     "data": {
      "text/plain": [
       "array([[84, 83],\n",
       "       [76, 77],\n",
       "       [83, 84],\n",
       "       [77, 76],\n",
       "       [82, 81],\n",
       "       [78, 79],\n",
       "       [81, 82],\n",
       "       [79, 78],\n",
       "       [85, 84],\n",
       "       [75, 74],\n",
       "       [61, 62],\n",
       "       [59, 58],\n",
       "       [62, 61],\n",
       "       [58, 59],\n",
       "       [63, 64],\n",
       "       [57, 56],\n",
       "       [64, 63],\n",
       "       [56, 57],\n",
       "       [65, 64],\n",
       "       [55, 54],\n",
       "       [43, 44],\n",
       "       [37, 36],\n",
       "       [44, 43],\n",
       "       [36, 37],\n",
       "       [45, 44],\n",
       "       [35, 34],\n",
       "       [41, 42],\n",
       "       [39, 38],\n",
       "       [42, 41],\n",
       "       [38, 39]], dtype=int64)"
      ]
     },
     "execution_count": 38,
     "metadata": {},
     "output_type": "execute_result"
    }
   ],
   "source": [
    "X"
   ]
  },
  {
   "cell_type": "code",
   "execution_count": 39,
   "id": "36b2a943",
   "metadata": {},
   "outputs": [
    {
     "data": {
      "text/plain": [
       "User ID     0\n",
       "Gender      0\n",
       "Score1      0\n",
       "Score2      0\n",
       "Category    0\n",
       "dtype: int64"
      ]
     },
     "execution_count": 39,
     "metadata": {},
     "output_type": "execute_result"
    }
   ],
   "source": [
    "df1.isnull().sum()"
   ]
  },
  {
   "cell_type": "code",
   "execution_count": 40,
   "id": "88d78f27",
   "metadata": {},
   "outputs": [],
   "source": [
    "sc = StandardScaler()\n",
    "X = sc.fit_transform(X)"
   ]
  },
  {
   "cell_type": "code",
   "execution_count": 41,
   "id": "0a722c3a",
   "metadata": {},
   "outputs": [],
   "source": [
    "kmeans = KMeans(n_clusters = 3, init = 'k-means++', random_state = 0)\n",
    "y_kmeans = kmeans.fit_predict(X)"
   ]
  },
  {
   "cell_type": "code",
   "execution_count": 42,
   "id": "6619f75d",
   "metadata": {},
   "outputs": [
    {
     "data": {
      "image/png": "[encoded data removed]",
      "text/plain": [
       "<Figure size 640x480 with 1 Axes>"
      ]
     },
     "metadata": {},
     "output_type": "display_data"
    }
   ],
   "source": [
    "plt.scatter(X[y_kmeans == 0,0],X[y_kmeans == 0,1], s = 100, c = 'red', label = 'Cluster1')\n",
    "plt.scatter(X[y_kmeans == 1,0],X[y_kmeans == 1,1], s = 100, c = 'blue', label = 'Cluster2')\n",
    "plt.scatter(X[y_kmeans == 2,0],X[y_kmeans == 2,1], s = 100, c = 'green', label = 'Cluster3')\n",
    "plt.scatter(kmeans.cluster_centers_[:,0],kmeans.cluster_centers_[:,1], s = 100, c = 'yellow', label = 'centroids')\n",
    "plt.title('Cluters of drivers')\n",
    "plt.xlabel('Concentration score (Score1)')\n",
    "plt.ylabel('Respose score (Score2)')\n",
    "plt.legend()\n",
    "plt.show()"
   ]
  },
  {
   "cell_type": "code",
   "execution_count": null,
   "id": "4ab862c4",
   "metadata": {},
   "outputs": [],
   "source": [
    "##### Practical 3"
   ]
  },
  {
   "cell_type": "code",
   "execution_count": 43,
   "id": "71a0eb5e",
   "metadata": {},
   "outputs": [
    {
     "name": "stdout",
     "output_type": "stream",
     "text": [
      "Collecting apyori\n",
      "  Downloading apyori-1.1.2.tar.gz (8.6 kB)\n",
      "  Preparing metadata (setup.py): started\n",
      "  Preparing metadata (setup.py): finished with status 'done'\n",
      "Building wheels for collected packages: apyori\n",
      "  Building wheel for apyori (setup.py): started\n",
      "  Building wheel for apyori (setup.py): finished with status 'done'\n",
      "  Created wheel for apyori: filename=apyori-1.1.2-py3-none-any.whl size=5955 sha256=c3df56e4527720d3e72645e210f874a26c545d5db20d9cdafccc640da77851ec\n",
      "  Stored in directory: c:\\users\\abhay\\appdata\\local\\pip\\cache\\wheels\\32\\2a\\54\\10c595515f385f3726642b10c60bf788029e8f3a1323e3913a\n",
      "Successfully built apyori\n",
      "Installing collected packages: apyori\n",
      "Successfully installed apyori-1.1.2\n",
      "Note: you may need to restart the kernel to use updated packages.\n"
     ]
    }
   ],
   "source": [
    "pip install apyori"
   ]
  },
  {
   "cell_type": "code",
   "execution_count": 44,
   "id": "56f4096d",
   "metadata": {},
   "outputs": [],
   "source": [
    "import pandas as pd\n",
    "from apyori import apriori"
   ]
  },
  {
   "cell_type": "code",
   "execution_count": 46,
   "id": "848140f3",
   "metadata": {},
   "outputs": [],
   "source": [
    "with open('CanteenDataSet.csv') as f:\n",
    "    data = f.read()\n",
    "    data = data.split(\"\\n\")"
   ]
  },
  {
   "cell_type": "code",
   "execution_count": 47,
   "id": "5adff856",
   "metadata": {},
   "outputs": [
    {
     "data": {
      "text/plain": [
       "['\"Tea, Samosa, Sandwich\"',\n",
       " '\"Samosa, Tea, Sandwich, Noodles\"',\n",
       " '\"Samosa, Cold Coffee, French Fries\"',\n",
       " '\"Pizza, Maggie,Samosa,Tea\"',\n",
       " '\"Maggie,Cold Coffee,Sandwich\"',\n",
       " '\"Samosa,Cold Coffee,French Fries\"',\n",
       " '\"Maggie,Cold Coffee,Noodles\"',\n",
       " '\"Maggie,Samosa,Cold Coffee,Sandwich\"',\n",
       " '\"Pizza,Maggie,Samosa,Cold Coffee\"',\n",
       " '\"Samosa,Tea\"',\n",
       " '\"Black Tea,Manchurian,Sandwich,Noodles\"',\n",
       " '\"Black Tea,Manchurian,Sandwich,Noodles\"',\n",
       " '\"Black Tea,Fried Maggie,French Fries\"',\n",
       " '\"Samosa,Black Tea,Manchurian\"',\n",
       " '\"Samosa,Fried Maggie,Sandwich\"',\n",
       " '\"Black Tea,Fried Maggie,Sandwich\"',\n",
       " '\"Samosa,Fried Maggie,French Fries\"',\n",
       " '\"Samosa,Black Tea,Fried Maggie\"',\n",
       " '\"Samosa,Black Tea,Fried Maggie\"',\n",
       " '\"Cold Coffee,Tea,Black Tea,Noodles\"']"
      ]
     },
     "execution_count": 47,
     "metadata": {},
     "output_type": "execute_result"
    }
   ],
   "source": [
    "data"
   ]
  },
  {
   "cell_type": "code",
   "execution_count": 48,
   "id": "e95654d9",
   "metadata": {},
   "outputs": [],
   "source": [
    "newData =[]\n",
    "for line in data:\n",
    "    newData.append(line.split(\",\"))"
   ]
  },
  {
   "cell_type": "code",
   "execution_count": 49,
   "id": "31d87e0d",
   "metadata": {},
   "outputs": [
    {
     "data": {
      "text/plain": [
       "[['\"Tea', ' Samosa', ' Sandwich\"'],\n",
       " ['\"Samosa', ' Tea', ' Sandwich', ' Noodles\"'],\n",
       " ['\"Samosa', ' Cold Coffee', ' French Fries\"'],\n",
       " ['\"Pizza', ' Maggie', 'Samosa', 'Tea\"'],\n",
       " ['\"Maggie', 'Cold Coffee', 'Sandwich\"'],\n",
       " ['\"Samosa', 'Cold Coffee', 'French Fries\"'],\n",
       " ['\"Maggie', 'Cold Coffee', 'Noodles\"'],\n",
       " ['\"Maggie', 'Samosa', 'Cold Coffee', 'Sandwich\"'],\n",
       " ['\"Pizza', 'Maggie', 'Samosa', 'Cold Coffee\"'],\n",
       " ['\"Samosa', 'Tea\"'],\n",
       " ['\"Black Tea', 'Manchurian', 'Sandwich', 'Noodles\"'],\n",
       " ['\"Black Tea', 'Manchurian', 'Sandwich', 'Noodles\"'],\n",
       " ['\"Black Tea', 'Fried Maggie', 'French Fries\"'],\n",
       " ['\"Samosa', 'Black Tea', 'Manchurian\"'],\n",
       " ['\"Samosa', 'Fried Maggie', 'Sandwich\"'],\n",
       " ['\"Black Tea', 'Fried Maggie', 'Sandwich\"'],\n",
       " ['\"Samosa', 'Fried Maggie', 'French Fries\"'],\n",
       " ['\"Samosa', 'Black Tea', 'Fried Maggie\"'],\n",
       " ['\"Samosa', 'Black Tea', 'Fried Maggie\"'],\n",
       " ['\"Cold Coffee', 'Tea', 'Black Tea', 'Noodles\"']]"
      ]
     },
     "execution_count": 49,
     "metadata": {},
     "output_type": "execute_result"
    }
   ],
   "source": [
    "newData"
   ]
  },
  {
   "cell_type": "code",
   "execution_count": 50,
   "id": "f02f8cf4",
   "metadata": {},
   "outputs": [
    {
     "data": {
      "text/plain": [
       "'T'"
      ]
     },
     "execution_count": 50,
     "metadata": {},
     "output_type": "execute_result"
    }
   ],
   "source": [
    "newData[0][0][1]"
   ]
  },
  {
   "cell_type": "code",
   "execution_count": 53,
   "id": "b2778d17",
   "metadata": {},
   "outputs": [
    {
     "name": "stdout",
     "output_type": "stream",
     "text": [
      "[['Tea', ' Samosa', ' Sandwich'], ['Samosa', ' Tea', ' Sandwich', ' Noodles'], ['Samosa', ' Cold Coffee', ' French Fries'], ['Pizza', ' Maggie', 'Samosa', 'Tea'], ['Maggie', 'Cold Coffee', 'Sandwich'], ['Samosa', 'Cold Coffee', 'French Fries'], ['Maggie', 'Cold Coffee', 'Noodles'], ['Maggie', 'Samosa', 'Cold Coffee', 'Sandwich'], ['Pizza', 'Maggie', 'Samosa', 'Cold Coffee'], ['Samosa', 'Tea'], ['Black Tea', 'Manchurian', 'Sandwich', 'Noodles'], ['Black Tea', 'Manchurian', 'Sandwich', 'Noodles'], ['Black Tea', 'Fried Maggie', 'French Fries'], ['Samosa', 'Black Tea', 'Manchurian'], ['Samosa', 'Fried Maggie', 'Sandwich'], ['Black Tea', 'Fried Maggie', 'Sandwich'], ['Samosa', 'Fried Maggie', 'French Fries'], ['Samosa', 'Black Tea', 'Fried Maggie'], ['Samosa', 'Black Tea', 'Fried Maggie'], ['Cold Coffee', 'Tea', 'Black Tea', 'Noodles']]\n"
     ]
    }
   ],
   "source": [
    "for i in range(len(newData)):\n",
    "    for j in range(len(newData[i])):\n",
    "        newData[i][j] = newData[i][j].replace('\"','')\n",
    "        \n",
    "print(newData)"
   ]
  },
  {
   "cell_type": "code",
   "execution_count": 54,
   "id": "9d0d61ff",
   "metadata": {},
   "outputs": [],
   "source": [
    "association_rules = apriori(newData,min_support=0.0045,min_confidence=0.2,min_lift=3,min_lenght=2)\n",
    "AR = list(association_rules)"
   ]
  },
  {
   "cell_type": "code",
   "execution_count": 58,
   "id": "475bd10f",
   "metadata": {},
   "outputs": [
    {
     "name": "stdout",
     "output_type": "stream",
     "text": [
      "Rule:  French Fries ->  Cold Coffee\n",
      "Support: 0.05\n",
      "Confidence: 1.0\n",
      "Lift: 20.0\n",
      "================================\n",
      "Rule:  Maggie -> Pizza\n",
      "Support: 0.05\n",
      "Confidence: 1.0\n",
      "Lift: 10.0\n",
      "================================\n",
      "Rule:  Maggie -> Tea\n",
      "Support: 0.05\n",
      "Confidence: 1.0\n",
      "Lift: 5.0\n",
      "================================\n",
      "Rule:  Noodles ->  Sandwich\n",
      "Support: 0.05\n",
      "Confidence: 1.0\n",
      "Lift: 10.0\n",
      "================================\n",
      "Rule:  Noodles ->  Tea\n",
      "Support: 0.05\n",
      "Confidence: 1.0\n",
      "Lift: 20.0\n",
      "================================\n",
      "Rule:  Sandwich ->  Samosa\n",
      "Support: 0.05\n",
      "Confidence: 1.0\n",
      "Lift: 10.0\n",
      "================================\n",
      "Rule:  Samosa -> Tea\n",
      "Support: 0.05\n",
      "Confidence: 1.0\n",
      "Lift: 5.0\n",
      "================================\n",
      "Rule:  Sandwich ->  Tea\n",
      "Support: 0.05\n",
      "Confidence: 0.5\n",
      "Lift: 10.0\n",
      "================================\n",
      "Rule: Cold Coffee -> Maggie\n",
      "Support: 0.2\n",
      "Confidence: 0.6666666666666667\n",
      "Lift: 3.3333333333333335\n",
      "================================\n",
      "Rule: Manchurian -> Noodles\n",
      "Support: 0.1\n",
      "Confidence: 0.6666666666666667\n",
      "Lift: 3.3333333333333335\n",
      "================================\n",
      "Rule:  French Fries -> Samosa\n",
      "Support: 0.05\n",
      "Confidence: 1.0\n",
      "Lift: 20.0\n",
      "================================\n",
      "Rule:  Maggie -> Samosa\n",
      "Support: 0.05\n",
      "Confidence: 1.0\n",
      "Lift: 10.0\n",
      "================================\n",
      "Rule:  Maggie -> Tea\n",
      "Support: 0.05\n",
      "Confidence: 1.0\n",
      "Lift: 20.0\n",
      "================================\n",
      "Rule:  Maggie -> Samosa\n",
      "Support: 0.05\n",
      "Confidence: 1.0\n",
      "Lift: 10.0\n",
      "================================\n",
      "Rule:  Noodles ->  Sandwich\n",
      "Support: 0.05\n",
      "Confidence: 1.0\n",
      "Lift: 20.0\n",
      "================================\n",
      "Rule:  Noodles ->  Sandwich\n",
      "Support: 0.05\n",
      "Confidence: 1.0\n",
      "Lift: 20.0\n",
      "================================\n",
      "Rule:  Noodles -> Samosa\n",
      "Support: 0.05\n",
      "Confidence: 1.0\n",
      "Lift: 20.0\n",
      "================================\n",
      "Rule:  Sandwich ->  Samosa\n",
      "Support: 0.05\n",
      "Confidence: 1.0\n",
      "Lift: 20.0\n",
      "================================\n",
      "Rule:  Sandwich -> Samosa\n",
      "Support: 0.05\n",
      "Confidence: 0.5\n",
      "Lift: 10.0\n",
      "================================\n",
      "Rule: Cold Coffee -> Noodles\n",
      "Support: 0.05\n",
      "Confidence: 0.25\n",
      "Lift: 5.0\n",
      "================================\n",
      "Rule: Cold Coffee -> Tea\n",
      "Support: 0.05\n",
      "Confidence: 0.25\n",
      "Lift: 5.0\n",
      "================================\n",
      "Rule: French Fries -> Black Tea\n",
      "Support: 0.05\n",
      "Confidence: 1.0\n",
      "Lift: 3.3333333333333335\n",
      "================================\n",
      "Rule: Manchurian -> Noodles\n",
      "Support: 0.1\n",
      "Confidence: 0.6666666666666667\n",
      "Lift: 4.4444444444444455\n",
      "================================\n",
      "Rule: Manchurian -> Sandwich\n",
      "Support: 0.1\n",
      "Confidence: 0.6666666666666667\n",
      "Lift: 4.4444444444444455\n",
      "================================\n",
      "Rule: Noodles -> Sandwich\n",
      "Support: 0.1\n",
      "Confidence: 0.5\n",
      "Lift: 3.3333333333333335\n",
      "================================\n",
      "Rule: Noodles -> Tea\n",
      "Support: 0.05\n",
      "Confidence: 0.25\n",
      "Lift: 5.0\n",
      "================================\n",
      "Rule: Cold Coffee -> Noodles\n",
      "Support: 0.05\n",
      "Confidence: 1.0\n",
      "Lift: 3.3333333333333335\n",
      "================================\n",
      "Rule: Cold Coffee -> Pizza\n",
      "Support: 0.05\n",
      "Confidence: 0.25\n",
      "Lift: 5.0\n",
      "================================\n",
      "Rule: Cold Coffee -> Samosa\n",
      "Support: 0.1\n",
      "Confidence: 0.33333333333333337\n",
      "Lift: 3.3333333333333335\n",
      "================================\n",
      "Rule: Cold Coffee -> Sandwich\n",
      "Support: 0.1\n",
      "Confidence: 0.33333333333333337\n",
      "Lift: 3.3333333333333335\n",
      "================================\n",
      "Rule: Cold Coffee -> Tea\n",
      "Support: 0.05\n",
      "Confidence: 0.25\n",
      "Lift: 5.0\n",
      "================================\n",
      "Rule: Cold Coffee -> Samosa\n",
      "Support: 0.05\n",
      "Confidence: 0.5\n",
      "Lift: 3.3333333333333335\n",
      "================================\n",
      "Rule: Samosa -> Pizza\n",
      "Support: 0.05\n",
      "Confidence: 0.5\n",
      "Lift: 5.0\n",
      "================================\n",
      "Rule: Manchurian -> Sandwich\n",
      "Support: 0.1\n",
      "Confidence: 0.6666666666666667\n",
      "Lift: 6.666666666666667\n",
      "================================\n",
      "Rule: Samosa -> Tea\n",
      "Support: 0.05\n",
      "Confidence: 0.5\n",
      "Lift: 5.0\n",
      "================================\n",
      "Rule:  Maggie -> Samosa\n",
      "Support: 0.05\n",
      "Confidence: 1.0\n",
      "Lift: 20.0\n",
      "================================\n",
      "Rule:  Noodles ->  Sandwich\n",
      "Support: 0.05\n",
      "Confidence: 1.0\n",
      "Lift: 20.0\n",
      "================================\n",
      "Rule: Cold Coffee -> Noodles\n",
      "Support: 0.05\n",
      "Confidence: 0.25\n",
      "Lift: 5.0\n",
      "================================\n",
      "Rule: Manchurian -> Noodles\n",
      "Support: 0.1\n",
      "Confidence: 0.6666666666666667\n",
      "Lift: 6.666666666666667\n",
      "================================\n",
      "Rule: Cold Coffee -> Samosa\n",
      "Support: 0.05\n",
      "Confidence: 0.25\n",
      "Lift: 5.0\n",
      "================================\n",
      "Rule: Cold Coffee -> Samosa\n",
      "Support: 0.05\n",
      "Confidence: 0.25\n",
      "Lift: 5.0\n",
      "================================\n"
     ]
    }
   ],
   "source": [
    "b = AR[0][0]\n",
    "for item in AR:\n",
    "    pair = item[0]\n",
    "    items = [x for x in pair]\n",
    "    print(\"Rule: \" + items[0] + \" -> \" + items[1])\n",
    "    print(\"Support: \" + str(item[1]))\n",
    "    print(\"Confidence: \" + str(item[2][0][2]))\n",
    "    print(\"Lift: \"+ str(item[2][0][3]))\n",
    "    print(\"================================\")"
   ]
  },
  {
   "cell_type": "code",
   "execution_count": null,
   "id": "ad3d9533",
   "metadata": {},
   "outputs": [],
   "source": [
    "with"
   ]
  }
 ],
 "metadata": {
  "kernelspec": {
   "display_name": "Python 3 (ipykernel)",
   "language": "python",
   "name": "python3"
  },
  "language_info": {
   "codemirror_mode": {
    "name": "ipython",
    "version": 3
   },
   "file_extension": ".py",
   "mimetype": "text/x-python",
   "name": "python",
   "nbconvert_exporter": "python",
   "pygments_lexer": "ipython3",
   "version": "3.9.13"
  }
 },
 "nbformat": 4,
 "nbformat_minor": 5
}
